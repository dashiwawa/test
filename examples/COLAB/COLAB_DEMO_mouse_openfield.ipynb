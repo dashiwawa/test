{
  "cells": [
    {
      "cell_type": "markdown",
      "metadata": {
        "id": "view-in-github",
        "colab_type": "text"
      },
      "source": [
        "<a href=\"https://colab.research.google.com/github/dashiwawa/test/blob/main/examples/COLAB/COLAB_DEMO_mouse_openfield.ipynb\" target=\"_parent\"><img src=\"https://colab.research.google.com/assets/colab-badge.svg\" alt=\"Open In Colab\"/></a>"
      ]
    },
    {
      "cell_type": "markdown",
      "metadata": {
        "id": "TGChzLdc-lUJ"
      },
      "source": [
        "# DeepLabCut on Single Mouse Data Demo\n",
        "\n",
        "Some useful links:\n",
        "\n",
        "- [DeepLabCut's GitHub: github.com/DeepLabCut/DeepLabCut](https://github.com/DeepLabCut/DeepLabCut)\n",
        "- [DeepLabCut's Documentation: User Guide for Single Animal projects](https://deeplabcut.github.io/DeepLabCut/docs/standardDeepLabCut_UserGuide.html)\n",
        "\n",
        "![alt text](https://images.squarespace-cdn.com/content/v1/57f6d51c9f74566f55ecf271/1559935526258-KFYZC8BDHK01ZIDPNVIX/mouse_skel_trail.gif?format=450w)\n",
        "\n",
        "Demo supporting: Nath\\*, Mathis\\* et al. *Using DeepLabCut for markerless3D  pose estimation during behavior across species. Nature Protocols, 2019\n",
        "\n",
        "This notebook demonstrates the necessary steps to use DeepLabCut on our demo data. We provide a sub-set of the mouse data from Mathis et al, 2018 Nature Neuroscience.\n",
        "\n",
        "This demo notebook mostly shows the most simple code to train and evaluate your model, but many of the functions have additional features, so please check out the overview & the protocol paper!\n",
        "\n",
        "This notebook illustrates how to use the cloud to:\n",
        "\n",
        "- load demo data\n",
        "- create a training set\n",
        "- train a network\n",
        "- evaluate a network\n",
        "- analyze a novel video"
      ]
    },
    {
      "cell_type": "markdown",
      "metadata": {
        "id": "txoddlM8hLKm"
      },
      "source": [
        "## Installation\n",
        "\n",
        "### First, go to \"Runtime\" ->\"change runtime type\"->select \"Python3\", and then select \"GPU\""
      ]
    },
    {
      "cell_type": "code",
      "execution_count": 2,
      "metadata": {
        "id": "Ew6r4hotoQjt",
        "outputId": "d466b203-58a9-4e17-b4c8-50c6b4964757",
        "colab": {
          "base_uri": "https://localhost:8080/"
        }
      },
      "outputs": [
        {
          "output_type": "stream",
          "name": "stdout",
          "text": [
            "fatal: destination path 'cloned-DLC-repo' already exists and is not an empty directory.\n",
            "/content/cloned-DLC-repo\n",
            "AUTHORS\t\t    deeplabcut\t\t LICENSE\t   setup.py\n",
            "build\t\t    deeplabcut.egg-info  NOTICE.yml\t   tests\n",
            "CODE_OF_CONDUCT.md  dlc.py\t\t pyproject.toml    testscript_cli.py\n",
            "conda-environments  docker\t\t README.md\t   _toc.yml\n",
            "_config.yml\t    docs\t\t reinstall.sh\t   tools\n",
            "CONTRIBUTING.md     examples\t\t requirements.txt\n"
          ]
        }
      ],
      "source": [
        "# Clone the entire deeplabcut repo so we can use the demo data:\n",
        "!git clone -l -s https://github.com/DeepLabCut/DeepLabCut.git cloned-DLC-repo\n",
        "%cd cloned-DLC-repo\n",
        "!ls"
      ]
    },
    {
      "cell_type": "code",
      "execution_count": 3,
      "metadata": {
        "id": "yDaY78dFoxyD",
        "outputId": "04655c6e-0d39-4908-89a3-d8e72c083a90",
        "colab": {
          "base_uri": "https://localhost:8080/"
        }
      },
      "outputs": [
        {
          "output_type": "stream",
          "name": "stdout",
          "text": [
            "/content/cloned-DLC-repo/examples/openfield-Pranav-2018-10-30\n",
            "config.yaml  labeled-data  videos\n"
          ]
        }
      ],
      "source": [
        "%cd /content/cloned-DLC-repo/examples/openfield-Pranav-2018-10-30\n",
        "!ls"
      ]
    },
    {
      "cell_type": "code",
      "execution_count": 4,
      "metadata": {
        "id": "q23BzhA6CXxu",
        "outputId": "f3662eef-aa28-41fd-90d8-ef4758ad8365",
        "colab": {
          "base_uri": "https://localhost:8080/",
          "height": 1000
        }
      },
      "outputs": [
        {
          "output_type": "stream",
          "name": "stdout",
          "text": [
            "/content/cloned-DLC-repo\n",
            "Processing /content/cloned-DLC-repo\n",
            "  Installing build dependencies ... \u001b[?25l\u001b[?25hdone\n",
            "  Getting requirements to build wheel ... \u001b[?25l\u001b[?25hdone\n",
            "  Preparing metadata (pyproject.toml) ... \u001b[?25l\u001b[?25hdone\n",
            "Requirement already satisfied: albumentations<=1.4.3 in /usr/local/lib/python3.12/dist-packages (from deeplabcut==3.0.0rc12) (1.4.3)\n",
            "Requirement already satisfied: dlclibrary>=0.0.7 in /usr/local/lib/python3.12/dist-packages (from deeplabcut==3.0.0rc12) (0.0.11)\n",
            "Requirement already satisfied: einops in /usr/local/lib/python3.12/dist-packages (from deeplabcut==3.0.0rc12) (0.8.1)\n",
            "Requirement already satisfied: filterpy>=1.4.4 in /usr/local/lib/python3.12/dist-packages (from deeplabcut==3.0.0rc12) (1.4.5)\n",
            "Requirement already satisfied: ruamel.yaml>=0.15.0 in /usr/local/lib/python3.12/dist-packages (from deeplabcut==3.0.0rc12) (0.18.15)\n",
            "Requirement already satisfied: imgaug>=0.4.0 in /usr/local/lib/python3.12/dist-packages (from deeplabcut==3.0.0rc12) (0.4.0)\n",
            "Requirement already satisfied: imageio-ffmpeg in /usr/local/lib/python3.12/dist-packages (from deeplabcut==3.0.0rc12) (0.6.0)\n",
            "Requirement already satisfied: numba>=0.54 in /usr/local/lib/python3.12/dist-packages (from deeplabcut==3.0.0rc12) (0.60.0)\n",
            "Requirement already satisfied: matplotlib!=3.7.0,!=3.7.1,<3.9,>=3.3 in /usr/local/lib/python3.12/dist-packages (from deeplabcut==3.0.0rc12) (3.8.4)\n",
            "Requirement already satisfied: networkx>=2.6 in /usr/local/lib/python3.12/dist-packages (from deeplabcut==3.0.0rc12) (3.5)\n",
            "Requirement already satisfied: numpy<2.0.0,>=1.18.5 in /usr/local/lib/python3.12/dist-packages (from deeplabcut==3.0.0rc12) (1.26.4)\n",
            "Requirement already satisfied: pandas!=1.5.0,>=1.0.1 in /usr/local/lib/python3.12/dist-packages (from deeplabcut==3.0.0rc12) (2.2.2)\n",
            "Requirement already satisfied: scikit-image>=0.17 in /usr/local/lib/python3.12/dist-packages (from deeplabcut==3.0.0rc12) (0.25.2)\n",
            "Requirement already satisfied: scikit-learn>=1.0 in /usr/local/lib/python3.12/dist-packages (from deeplabcut==3.0.0rc12) (1.6.1)\n",
            "Requirement already satisfied: scipy>=1.9 in /usr/local/lib/python3.12/dist-packages (from deeplabcut==3.0.0rc12) (1.16.2)\n",
            "Requirement already satisfied: statsmodels>=0.11 in /usr/local/lib/python3.12/dist-packages (from deeplabcut==3.0.0rc12) (0.14.5)\n",
            "Requirement already satisfied: timm in /usr/local/lib/python3.12/dist-packages (from deeplabcut==3.0.0rc12) (1.0.19)\n",
            "Requirement already satisfied: torch>=2.0.0 in /usr/local/lib/python3.12/dist-packages (from deeplabcut==3.0.0rc12) (2.8.0+cu126)\n",
            "Requirement already satisfied: torchvision in /usr/local/lib/python3.12/dist-packages (from deeplabcut==3.0.0rc12) (0.23.0+cu126)\n",
            "Requirement already satisfied: tqdm in /usr/local/lib/python3.12/dist-packages (from deeplabcut==3.0.0rc12) (4.67.1)\n",
            "Requirement already satisfied: pycocotools in /usr/local/lib/python3.12/dist-packages (from deeplabcut==3.0.0rc12) (2.0.10)\n",
            "Requirement already satisfied: pyyaml in /usr/local/lib/python3.12/dist-packages (from deeplabcut==3.0.0rc12) (6.0.2)\n",
            "Requirement already satisfied: Pillow>=7.1 in /usr/local/lib/python3.12/dist-packages (from deeplabcut==3.0.0rc12) (11.3.0)\n",
            "Requirement already satisfied: tables in /usr/local/lib/python3.12/dist-packages (from deeplabcut==3.0.0rc12) (3.10.2)\n",
            "Requirement already satisfied: typing-extensions>=4.9.0 in /usr/local/lib/python3.12/dist-packages (from albumentations<=1.4.3->deeplabcut==3.0.0rc12) (4.15.0)\n",
            "Requirement already satisfied: opencv-python-headless>=4.9.0 in /usr/local/lib/python3.12/dist-packages (from albumentations<=1.4.3->deeplabcut==3.0.0rc12) (4.11.0.86)\n",
            "Requirement already satisfied: huggingface-hub in /usr/local/lib/python3.12/dist-packages (from dlclibrary>=0.0.7->deeplabcut==3.0.0rc12) (0.35.0)\n",
            "Requirement already satisfied: six in /usr/local/lib/python3.12/dist-packages (from imgaug>=0.4.0->deeplabcut==3.0.0rc12) (1.17.0)\n",
            "Requirement already satisfied: opencv-python in /usr/local/lib/python3.12/dist-packages (from imgaug>=0.4.0->deeplabcut==3.0.0rc12) (4.11.0.86)\n",
            "Requirement already satisfied: imageio in /usr/local/lib/python3.12/dist-packages (from imgaug>=0.4.0->deeplabcut==3.0.0rc12) (2.37.0)\n",
            "Requirement already satisfied: Shapely in /usr/local/lib/python3.12/dist-packages (from imgaug>=0.4.0->deeplabcut==3.0.0rc12) (2.1.1)\n",
            "Requirement already satisfied: contourpy>=1.0.1 in /usr/local/lib/python3.12/dist-packages (from matplotlib!=3.7.0,!=3.7.1,<3.9,>=3.3->deeplabcut==3.0.0rc12) (1.3.3)\n",
            "Requirement already satisfied: cycler>=0.10 in /usr/local/lib/python3.12/dist-packages (from matplotlib!=3.7.0,!=3.7.1,<3.9,>=3.3->deeplabcut==3.0.0rc12) (0.12.1)\n",
            "Requirement already satisfied: fonttools>=4.22.0 in /usr/local/lib/python3.12/dist-packages (from matplotlib!=3.7.0,!=3.7.1,<3.9,>=3.3->deeplabcut==3.0.0rc12) (4.60.0)\n",
            "Requirement already satisfied: kiwisolver>=1.3.1 in /usr/local/lib/python3.12/dist-packages (from matplotlib!=3.7.0,!=3.7.1,<3.9,>=3.3->deeplabcut==3.0.0rc12) (1.4.9)\n",
            "Requirement already satisfied: packaging>=20.0 in /usr/local/lib/python3.12/dist-packages (from matplotlib!=3.7.0,!=3.7.1,<3.9,>=3.3->deeplabcut==3.0.0rc12) (25.0)\n",
            "Requirement already satisfied: pyparsing>=2.3.1 in /usr/local/lib/python3.12/dist-packages (from matplotlib!=3.7.0,!=3.7.1,<3.9,>=3.3->deeplabcut==3.0.0rc12) (3.2.4)\n",
            "Requirement already satisfied: python-dateutil>=2.7 in /usr/local/lib/python3.12/dist-packages (from matplotlib!=3.7.0,!=3.7.1,<3.9,>=3.3->deeplabcut==3.0.0rc12) (2.9.0.post0)\n",
            "Requirement already satisfied: llvmlite<0.44,>=0.43.0dev0 in /usr/local/lib/python3.12/dist-packages (from numba>=0.54->deeplabcut==3.0.0rc12) (0.43.0)\n",
            "Requirement already satisfied: pytz>=2020.1 in /usr/local/lib/python3.12/dist-packages (from pandas!=1.5.0,>=1.0.1->deeplabcut==3.0.0rc12) (2025.2)\n",
            "Requirement already satisfied: tzdata>=2022.7 in /usr/local/lib/python3.12/dist-packages (from pandas!=1.5.0,>=1.0.1->deeplabcut==3.0.0rc12) (2025.2)\n",
            "Requirement already satisfied: ruamel.yaml.clib>=0.2.7 in /usr/local/lib/python3.12/dist-packages (from ruamel.yaml>=0.15.0->deeplabcut==3.0.0rc12) (0.2.14)\n",
            "Requirement already satisfied: tifffile>=2022.8.12 in /usr/local/lib/python3.12/dist-packages (from scikit-image>=0.17->deeplabcut==3.0.0rc12) (2025.9.9)\n",
            "Requirement already satisfied: lazy-loader>=0.4 in /usr/local/lib/python3.12/dist-packages (from scikit-image>=0.17->deeplabcut==3.0.0rc12) (0.4)\n",
            "Requirement already satisfied: joblib>=1.2.0 in /usr/local/lib/python3.12/dist-packages (from scikit-learn>=1.0->deeplabcut==3.0.0rc12) (1.5.2)\n",
            "Requirement already satisfied: threadpoolctl>=3.1.0 in /usr/local/lib/python3.12/dist-packages (from scikit-learn>=1.0->deeplabcut==3.0.0rc12) (3.6.0)\n",
            "Requirement already satisfied: patsy>=0.5.6 in /usr/local/lib/python3.12/dist-packages (from statsmodels>=0.11->deeplabcut==3.0.0rc12) (1.0.1)\n",
            "Requirement already satisfied: filelock in /usr/local/lib/python3.12/dist-packages (from torch>=2.0.0->deeplabcut==3.0.0rc12) (3.19.1)\n",
            "Requirement already satisfied: setuptools in /usr/local/lib/python3.12/dist-packages (from torch>=2.0.0->deeplabcut==3.0.0rc12) (75.2.0)\n",
            "Requirement already satisfied: sympy>=1.13.3 in /usr/local/lib/python3.12/dist-packages (from torch>=2.0.0->deeplabcut==3.0.0rc12) (1.13.3)\n",
            "Requirement already satisfied: jinja2 in /usr/local/lib/python3.12/dist-packages (from torch>=2.0.0->deeplabcut==3.0.0rc12) (3.1.6)\n",
            "Requirement already satisfied: fsspec in /usr/local/lib/python3.12/dist-packages (from torch>=2.0.0->deeplabcut==3.0.0rc12) (2025.3.0)\n",
            "Requirement already satisfied: nvidia-cuda-nvrtc-cu12==12.6.77 in /usr/local/lib/python3.12/dist-packages (from torch>=2.0.0->deeplabcut==3.0.0rc12) (12.6.77)\n",
            "Requirement already satisfied: nvidia-cuda-runtime-cu12==12.6.77 in /usr/local/lib/python3.12/dist-packages (from torch>=2.0.0->deeplabcut==3.0.0rc12) (12.6.77)\n",
            "Requirement already satisfied: nvidia-cuda-cupti-cu12==12.6.80 in /usr/local/lib/python3.12/dist-packages (from torch>=2.0.0->deeplabcut==3.0.0rc12) (12.6.80)\n",
            "Requirement already satisfied: nvidia-cudnn-cu12==9.10.2.21 in /usr/local/lib/python3.12/dist-packages (from torch>=2.0.0->deeplabcut==3.0.0rc12) (9.10.2.21)\n",
            "Requirement already satisfied: nvidia-cublas-cu12==12.6.4.1 in /usr/local/lib/python3.12/dist-packages (from torch>=2.0.0->deeplabcut==3.0.0rc12) (12.6.4.1)\n",
            "Requirement already satisfied: nvidia-cufft-cu12==11.3.0.4 in /usr/local/lib/python3.12/dist-packages (from torch>=2.0.0->deeplabcut==3.0.0rc12) (11.3.0.4)\n",
            "Requirement already satisfied: nvidia-curand-cu12==10.3.7.77 in /usr/local/lib/python3.12/dist-packages (from torch>=2.0.0->deeplabcut==3.0.0rc12) (10.3.7.77)\n",
            "Requirement already satisfied: nvidia-cusolver-cu12==11.7.1.2 in /usr/local/lib/python3.12/dist-packages (from torch>=2.0.0->deeplabcut==3.0.0rc12) (11.7.1.2)\n",
            "Requirement already satisfied: nvidia-cusparse-cu12==12.5.4.2 in /usr/local/lib/python3.12/dist-packages (from torch>=2.0.0->deeplabcut==3.0.0rc12) (12.5.4.2)\n",
            "Requirement already satisfied: nvidia-cusparselt-cu12==0.7.1 in /usr/local/lib/python3.12/dist-packages (from torch>=2.0.0->deeplabcut==3.0.0rc12) (0.7.1)\n",
            "Requirement already satisfied: nvidia-nccl-cu12==2.27.3 in /usr/local/lib/python3.12/dist-packages (from torch>=2.0.0->deeplabcut==3.0.0rc12) (2.27.3)\n",
            "Requirement already satisfied: nvidia-nvtx-cu12==12.6.77 in /usr/local/lib/python3.12/dist-packages (from torch>=2.0.0->deeplabcut==3.0.0rc12) (12.6.77)\n",
            "Requirement already satisfied: nvidia-nvjitlink-cu12==12.6.85 in /usr/local/lib/python3.12/dist-packages (from torch>=2.0.0->deeplabcut==3.0.0rc12) (12.6.85)\n",
            "Requirement already satisfied: nvidia-cufile-cu12==1.11.1.6 in /usr/local/lib/python3.12/dist-packages (from torch>=2.0.0->deeplabcut==3.0.0rc12) (1.11.1.6)\n",
            "Requirement already satisfied: triton==3.4.0 in /usr/local/lib/python3.12/dist-packages (from torch>=2.0.0->deeplabcut==3.0.0rc12) (3.4.0)\n",
            "Requirement already satisfied: numexpr>=2.6.2 in /usr/local/lib/python3.12/dist-packages (from tables->deeplabcut==3.0.0rc12) (2.12.1)\n",
            "Requirement already satisfied: py-cpuinfo in /usr/local/lib/python3.12/dist-packages (from tables->deeplabcut==3.0.0rc12) (9.0.0)\n",
            "Requirement already satisfied: blosc2>=2.3.0 in /usr/local/lib/python3.12/dist-packages (from tables->deeplabcut==3.0.0rc12) (3.8.0)\n",
            "Requirement already satisfied: safetensors in /usr/local/lib/python3.12/dist-packages (from timm->deeplabcut==3.0.0rc12) (0.6.2)\n",
            "Requirement already satisfied: ndindex in /usr/local/lib/python3.12/dist-packages (from blosc2>=2.3.0->tables->deeplabcut==3.0.0rc12) (1.10.0)\n",
            "Requirement already satisfied: msgpack in /usr/local/lib/python3.12/dist-packages (from blosc2>=2.3.0->tables->deeplabcut==3.0.0rc12) (1.1.1)\n",
            "Requirement already satisfied: platformdirs in /usr/local/lib/python3.12/dist-packages (from blosc2>=2.3.0->tables->deeplabcut==3.0.0rc12) (4.4.0)\n",
            "Requirement already satisfied: requests in /usr/local/lib/python3.12/dist-packages (from blosc2>=2.3.0->tables->deeplabcut==3.0.0rc12) (2.32.4)\n",
            "Requirement already satisfied: mpmath<1.4,>=1.1.0 in /usr/local/lib/python3.12/dist-packages (from sympy>=1.13.3->torch>=2.0.0->deeplabcut==3.0.0rc12) (1.3.0)\n",
            "Requirement already satisfied: hf-xet<2.0.0,>=1.1.3 in /usr/local/lib/python3.12/dist-packages (from huggingface-hub->dlclibrary>=0.0.7->deeplabcut==3.0.0rc12) (1.1.10)\n",
            "Requirement already satisfied: MarkupSafe>=2.0 in /usr/local/lib/python3.12/dist-packages (from jinja2->torch>=2.0.0->deeplabcut==3.0.0rc12) (3.0.2)\n",
            "Requirement already satisfied: charset_normalizer<4,>=2 in /usr/local/lib/python3.12/dist-packages (from requests->blosc2>=2.3.0->tables->deeplabcut==3.0.0rc12) (3.4.3)\n",
            "Requirement already satisfied: idna<4,>=2.5 in /usr/local/lib/python3.12/dist-packages (from requests->blosc2>=2.3.0->tables->deeplabcut==3.0.0rc12) (3.10)\n",
            "Requirement already satisfied: urllib3<3,>=1.21.1 in /usr/local/lib/python3.12/dist-packages (from requests->blosc2>=2.3.0->tables->deeplabcut==3.0.0rc12) (2.5.0)\n",
            "Requirement already satisfied: certifi>=2017.4.17 in /usr/local/lib/python3.12/dist-packages (from requests->blosc2>=2.3.0->tables->deeplabcut==3.0.0rc12) (2025.8.3)\n",
            "Building wheels for collected packages: deeplabcut\n",
            "  Building wheel for deeplabcut (pyproject.toml) ... \u001b[?25l\u001b[?25hdone\n",
            "  Created wheel for deeplabcut: filename=deeplabcut-3.0.0rc12-py3-none-any.whl size=2161279 sha256=9b148b8032d594d0491e5bea4dc68490087cb158f2a9d708ea5b65aa51a689a3\n",
            "  Stored in directory: /root/.cache/pip/wheels/11/92/a1/32cf9605b1caf070d80544e4227af31b86800e56d21a542cf2\n",
            "Successfully built deeplabcut\n",
            "Installing collected packages: deeplabcut\n",
            "  Attempting uninstall: deeplabcut\n",
            "    Found existing installation: deeplabcut 3.0.0rc12\n",
            "    Uninstalling deeplabcut-3.0.0rc12:\n",
            "      Successfully uninstalled deeplabcut-3.0.0rc12\n",
            "Successfully installed deeplabcut-3.0.0rc12\n"
          ]
        },
        {
          "output_type": "display_data",
          "data": {
            "application/vnd.colab-display-data+json": {
              "pip_warning": {
                "packages": [
                  "deeplabcut"
                ]
              },
              "id": "900c361874d746d19b0787c6087a1f13"
            }
          },
          "metadata": {}
        }
      ],
      "source": [
        "# Install the latest DeepLabCut version (this will take a few minutes to install all the dependencies!)\n",
        "%cd /content/cloned-DLC-repo/\n",
        "%pip install \".\""
      ]
    },
    {
      "cell_type": "markdown",
      "metadata": {
        "id": "XymV_Hnlp1OJ"
      },
      "source": [
        "### PLEASE, click \"restart runtime\" from the output above before proceeding!"
      ]
    },
    {
      "cell_type": "code",
      "execution_count": 5,
      "metadata": {
        "id": "sXufoX6INe6w"
      },
      "outputs": [],
      "source": [
        "import deeplabcut"
      ]
    },
    {
      "cell_type": "code",
      "execution_count": 6,
      "metadata": {
        "id": "Z7ZlDr3wV4D1",
        "outputId": "4cc1c171-0f9c-4dda-81c1-630703376fe8",
        "colab": {
          "base_uri": "https://localhost:8080/"
        }
      },
      "outputs": [
        {
          "output_type": "stream",
          "name": "stdout",
          "text": [
            "Loaded, now creating training data...\n"
          ]
        }
      ],
      "source": [
        "# Create a path variable that links to the config file:\n",
        "path_config_file = '/content/cloned-DLC-repo/examples/openfield-Pranav-2018-10-30/config.yaml'\n",
        "\n",
        "# Loading example data set:\n",
        "deeplabcut.load_demo_data(path_config_file)\n",
        "\n",
        "# Automatically update some hyperparameters for training,\n",
        "# here rotations to +/- 180 degrees. This can be helpful for optimizing performance.\n",
        "# see Primer -- Mathis et al. Neuron 2020\n",
        "from deeplabcut.core.config import read_config_as_dict\n",
        "import deeplabcut.pose_estimation_pytorch as dlc_torch\n",
        "\n",
        "loader = dlc_torch.DLCLoader(\n",
        "    config=path_config_file,\n",
        "    trainset_index=0,\n",
        "    shuffle=1,\n",
        ")\n",
        "\n",
        "# Get the pytorch config path\n",
        "pytorch_config_path = loader.model_folder / \"pytorch_config.yaml\"\n",
        "\n",
        "model_cfg = read_config_as_dict(pytorch_config_path)\n",
        "model_cfg['data'][\"train\"][\"affine\"][\"rotation\"]=180\n",
        "\n",
        "# Save the modified config\n",
        "dlc_torch.config.write_config(pytorch_config_path,model_cfg)"
      ]
    },
    {
      "cell_type": "markdown",
      "metadata": {
        "id": "c4FczXGDoEJU"
      },
      "source": [
        "## Start training:\n",
        "This function trains the network for a specific shuffle of the training dataset."
      ]
    },
    {
      "cell_type": "code",
      "execution_count": 1,
      "metadata": {
        "id": "_pOvDq_2oEJW",
        "outputId": "58bccc91-e11c-4dd6-f196-0f562fd81e21",
        "colab": {
          "base_uri": "https://localhost:8080/",
          "height": 216
        }
      },
      "outputs": [
        {
          "output_type": "error",
          "ename": "NameError",
          "evalue": "name 'deeplabcut' is not defined",
          "traceback": [
            "\u001b[0;31m---------------------------------------------------------------------------\u001b[0m",
            "\u001b[0;31mNameError\u001b[0m                                 Traceback (most recent call last)",
            "\u001b[0;32m/tmp/ipython-input-2762949653.py\u001b[0m in \u001b[0;36m<cell line: 0>\u001b[0;34m()\u001b[0m\n\u001b[1;32m     10\u001b[0m \u001b[0;31m#   https://deeplabcut.github.io/DeepLabCut/docs/standardDeepLabCut_UserGuide.html#g-train-the-network\u001b[0m\u001b[0;34m\u001b[0m\u001b[0;34m\u001b[0m\u001b[0m\n\u001b[1;32m     11\u001b[0m \u001b[0;34m\u001b[0m\u001b[0m\n\u001b[0;32m---> 12\u001b[0;31m deeplabcut.train_network(\n\u001b[0m\u001b[1;32m     13\u001b[0m     \u001b[0mpath_config_file\u001b[0m\u001b[0;34m,\u001b[0m\u001b[0;34m\u001b[0m\u001b[0;34m\u001b[0m\u001b[0m\n\u001b[1;32m     14\u001b[0m     \u001b[0mshuffle\u001b[0m\u001b[0;34m=\u001b[0m\u001b[0;36m1\u001b[0m\u001b[0;34m,\u001b[0m\u001b[0;34m\u001b[0m\u001b[0;34m\u001b[0m\u001b[0m\n",
            "\u001b[0;31mNameError\u001b[0m: name 'deeplabcut' is not defined"
          ]
        }
      ],
      "source": [
        "# Let's also change the display and save_epochs just in case Colab takes away\n",
        "# the GPU... If that happens, you can reload from a saved point using the\n",
        "# `snapshot_path` argument to `deeplabcut.train_network`:\n",
        "#   deeplabcut.train_network(..., snapshot_path=\"/content/.../snapshot-050.pt\")\n",
        "\n",
        "# Typically, you want to train to ~200 epochs. We set the batch size to 8 to\n",
        "# utilize the GPU's capabilities.\n",
        "\n",
        "# More info and there are more things you can set:\n",
        "#   https://deeplabcut.github.io/DeepLabCut/docs/standardDeepLabCut_UserGuide.html#g-train-the-network\n",
        "\n",
        "deeplabcut.train_network(\n",
        "    path_config_file,\n",
        "    shuffle=1,\n",
        "    save_epochs=5,\n",
        "    epochs=200,\n",
        "    batch_size=8,\n",
        ")\n",
        "\n",
        "# This will run until you stop it (CTRL+C), or hit \"STOP\" icon, or when it hits the end."
      ]
    },
    {
      "cell_type": "markdown",
      "metadata": {
        "id": "RiDwIVf5-3H_"
      },
      "source": [
        "We recommend you run this for ~100 epochs, just as a demo. This should take around 15 minutes. Note, that **when you hit \"STOP\" you will get a `KeyboardInterrupt` \"error\"! No worries! :)**\n",
        "\n",
        "A new snapshot is saved every `save_epochs` epochs. So once you hit 80 epochs, your latest snapshot in `/content/cloned-DLC-repo/examples/openfield-Pranav-2018-10-30/dlc-models-pytorch/iteration-0/openfieldOct30-trainset95shuffle1/train` should be `snapshot-80.pt`. The best snapshot evaluated during training is saved, and is named `snapshot-best-XX.pt`, where `XX` is the number of epochs the model was trained with."
      ]
    },
    {
      "cell_type": "markdown",
      "metadata": {
        "id": "xZygsb2DoEJc"
      },
      "source": [
        "## Start evaluating:\n",
        "This function evaluates a trained model for a specific shuffle/shuffles at a particular state or all the states on the data set (images)\n",
        "and stores the results as .csv file in a subdirectory under **evaluation-results**"
      ]
    },
    {
      "cell_type": "code",
      "execution_count": null,
      "metadata": {
        "id": "nv4zlbrnoEJg"
      },
      "outputs": [],
      "source": [
        "deeplabcut.evaluate_network(path_config_file, plotting=True)\n",
        "\n",
        "# Here you want to see a low pixel error! Of course, it can only be as\n",
        "# good as the labeler, so be sure your labels are good!"
      ]
    },
    {
      "cell_type": "markdown",
      "metadata": {
        "id": "oxy5JG-kYKF4"
      },
      "source": [
        "**Check the images**:\n",
        "\n",
        "You can go look in the newly created `\"evaluation-results-pytorch\"` folder at the images. At around 100 epochs, the error is ~3 pixels (but this can vary on how your demo data was split for training)."
      ]
    },
    {
      "cell_type": "markdown",
      "metadata": {
        "id": "OVFLSKKfoEJk"
      },
      "source": [
        "## Start Analyzing videos:\n",
        "This function analyzes the new video. The user can choose the best model from the evaluation results and specify the correct snapshot index for the variable **snapshotindex** in the **config.yaml** file. Otherwise, by default the most recent snapshot is used to analyse the video.\n",
        "\n",
        "The results are stored in hd5 file in the same directory where the video resides.\n",
        "\n",
        "**On the demo data, this should take around ~ 90 seconds! (The demo frames are 640x480, which should run around 25 FPS on the google-provided T4 GPU)**"
      ]
    },
    {
      "cell_type": "code",
      "execution_count": null,
      "metadata": {
        "id": "Y_LZiS_0oEJl"
      },
      "outputs": [],
      "source": [
        "# Enter the list of videos to analyze.\n",
        "videofile_path = [\"/content/cloned-DLC-repo/examples/openfield-Pranav-2018-10-30/videos/m3v1mp4.mp4\"]\n",
        "deeplabcut.analyze_videos(path_config_file, videofile_path, videotype=\".mp4\")"
      ]
    },
    {
      "cell_type": "markdown",
      "metadata": {
        "id": "pCrUvQIvoEKD"
      },
      "source": [
        "## Create labeled video:\n",
        "This function is for visualization purpose and can be used to create a video in .mp4 format with labels predicted by the network. This video is saved in the same directory where the original video resides. This should run around 215 FPS on the demo video!"
      ]
    },
    {
      "cell_type": "code",
      "execution_count": null,
      "metadata": {
        "id": "6aDF7Q7KoEKE"
      },
      "outputs": [],
      "source": [
        "deeplabcut.create_labeled_video(path_config_file, videofile_path)"
      ]
    },
    {
      "cell_type": "markdown",
      "metadata": {
        "id": "8GTiuJESoEKH"
      },
      "source": [
        "## Plot the trajectories of the analyzed videos:\n",
        "This function plots the trajectories of all the body parts across the entire video. Each body part is identified by a unique color."
      ]
    },
    {
      "cell_type": "code",
      "execution_count": null,
      "metadata": {
        "id": "gX21zZbXoEKJ"
      },
      "outputs": [],
      "source": [
        "deeplabcut.plot_trajectories(path_config_file, videofile_path)"
      ]
    }
  ],
  "metadata": {
    "accelerator": "GPU",
    "colab": {
      "name": "Colab_DEMO_mouse_openfield.ipynb",
      "provenance": [],
      "include_colab_link": true
    },
    "kernelspec": {
      "display_name": "Python [default]",
      "language": "python",
      "name": "python3"
    },
    "language_info": {
      "codemirror_mode": {
        "name": "ipython",
        "version": 3
      },
      "file_extension": ".py",
      "mimetype": "text/x-python",
      "name": "python",
      "nbconvert_exporter": "python",
      "pygments_lexer": "ipython3",
      "version": "3.6.9"
    }
  },
  "nbformat": 4,
  "nbformat_minor": 0
}